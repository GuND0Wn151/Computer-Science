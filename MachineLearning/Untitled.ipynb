{
 "cells": [
  {
   "cell_type": "code",
   "execution_count": 54,
   "id": "fd18ba13",
   "metadata": {},
   "outputs": [
    {
     "name": "stdout",
     "output_type": "stream",
     "text": [
      "19881A05E3 Mahesh Gupta CSE-C\n"
     ]
    }
   ],
   "source": [
    "print(\"19881A05E3 Mahesh Gupta CSE-C\")\n",
    "import pandas as pd\n",
    "import numpy as np"
   ]
  },
  {
   "cell_type": "code",
   "execution_count": 13,
   "id": "a2c66c67",
   "metadata": {},
   "outputs": [
    {
     "name": "stdout",
     "output_type": "stream",
     "text": [
      "________Answer 1__________\n"
     ]
    }
   ],
   "source": [
    "print(\"________Answer 1__________\")"
   ]
  },
  {
   "cell_type": "code",
   "execution_count": 3,
   "id": "4b953baa",
   "metadata": {},
   "outputs": [],
   "source": [
    "dataf=pd.DataFrame({'X':[78,85,96,80,86], 'Y':[84,94,89,83,86],'Z':[86,97,96,72,83]} )"
   ]
  },
  {
   "cell_type": "code",
   "execution_count": 4,
   "id": "ee1d496b",
   "metadata": {},
   "outputs": [
    {
     "name": "stdout",
     "output_type": "stream",
     "text": [
      "    X   Y   Z\n",
      "0  78  84  86\n",
      "1  85  94  97\n",
      "2  96  89  96\n",
      "3  80  83  72\n",
      "4  86  86  83\n"
     ]
    }
   ],
   "source": [
    "print(dataf)"
   ]
  },
  {
   "cell_type": "code",
   "execution_count": 5,
   "id": "a3997e41",
   "metadata": {},
   "outputs": [
    {
     "name": "stdout",
     "output_type": "stream",
     "text": [
      "________Answer 2__________\n"
     ]
    }
   ],
   "source": [
    "print(\"________Answer 2__________\")"
   ]
  },
  {
   "cell_type": "code",
   "execution_count": 6,
   "id": "eb84e9fb",
   "metadata": {},
   "outputs": [],
   "source": [
    "datadic=exam_data = {'name': ['Anastasia', 'Dima', 'Katherine', 'James', 'Emily', 'Michael', 'Matthew', 'Laura', 'Kevin', 'Jonas'],\n",
    "'score': [12.5, 9, 16.5, np.nan, 9, 20, 14.5, np.nan, 8, 19],\n",
    "'attempts': [1, 3, 2, 3, 2, 3, 1, 1, 2, 1],\n",
    "'qualify': ['yes', 'no', 'yes', 'no', 'no', 'yes', 'yes', 'no', 'no', 'yes']}\n"
   ]
  },
  {
   "cell_type": "code",
   "execution_count": 7,
   "id": "7f4fd2ec",
   "metadata": {},
   "outputs": [],
   "source": [
    "lab = ['a', 'b', 'c', 'd', 'e', 'f', 'g', 'h', 'i', 'j']\n"
   ]
  },
  {
   "cell_type": "code",
   "execution_count": 8,
   "id": "5c73f7f4",
   "metadata": {},
   "outputs": [],
   "source": [
    "dataf2=pd.DataFrame(datadic,index=lab)\n"
   ]
  },
  {
   "cell_type": "code",
   "execution_count": 9,
   "id": "98a6447e",
   "metadata": {},
   "outputs": [
    {
     "name": "stdout",
     "output_type": "stream",
     "text": [
      "        name  score  attempts qualify\n",
      "a  Anastasia   12.5         1     yes\n",
      "b       Dima    9.0         3      no\n",
      "c  Katherine   16.5         2     yes\n",
      "d      James    NaN         3      no\n",
      "e      Emily    9.0         2      no\n",
      "f    Michael   20.0         3     yes\n",
      "g    Matthew   14.5         1     yes\n",
      "h      Laura    NaN         1      no\n",
      "i      Kevin    8.0         2      no\n",
      "j      Jonas   19.0         1     yes\n"
     ]
    }
   ],
   "source": [
    "print(dataf2)"
   ]
  },
  {
   "cell_type": "code",
   "execution_count": 10,
   "id": "6a69c199",
   "metadata": {},
   "outputs": [
    {
     "name": "stdout",
     "output_type": "stream",
     "text": [
      "________Answer 3__________\n"
     ]
    }
   ],
   "source": [
    "print(\"________Answer 3__________\")"
   ]
  },
  {
   "cell_type": "code",
   "execution_count": 12,
   "id": "0246201d",
   "metadata": {},
   "outputs": [
    {
     "name": "stdout",
     "output_type": "stream",
     "text": [
      "        name  score\n",
      "a  Anastasia   12.5\n",
      "b       Dima    9.0\n",
      "c  Katherine   16.5\n",
      "d      James    NaN\n",
      "e      Emily    9.0\n",
      "f    Michael   20.0\n",
      "g    Matthew   14.5\n",
      "h      Laura    NaN\n",
      "i      Kevin    8.0\n",
      "j      Jonas   19.0\n"
     ]
    }
   ],
   "source": [
    "print(dataf2[['name','score']])\n"
   ]
  },
  {
   "cell_type": "code",
   "execution_count": 14,
   "id": "b24ca87e",
   "metadata": {},
   "outputs": [
    {
     "name": "stdout",
     "output_type": "stream",
     "text": [
      "________Answer 4__________\n"
     ]
    }
   ],
   "source": [
    "print(\"________Answer 4__________\")"
   ]
  },
  {
   "cell_type": "code",
   "execution_count": 15,
   "id": "46390942",
   "metadata": {},
   "outputs": [],
   "source": [
    "interval=pd.DataFrame({\"X\":[1,2,3,4,5,6]},\n",
    "index=pd.IntervalIndex.from_breaks([1,2,3,4,5,6,7]))\n"
   ]
  },
  {
   "cell_type": "code",
   "execution_count": 16,
   "id": "f46d017e",
   "metadata": {},
   "outputs": [
    {
     "name": "stdout",
     "output_type": "stream",
     "text": [
      "        X\n",
      "(1, 2]  1\n",
      "(2, 3]  2\n",
      "(3, 4]  3\n",
      "(4, 5]  4\n",
      "(5, 6]  5\n",
      "(6, 7]  6\n"
     ]
    }
   ],
   "source": [
    "print(interval)"
   ]
  },
  {
   "cell_type": "code",
   "execution_count": 17,
   "id": "77122967",
   "metadata": {},
   "outputs": [
    {
     "name": "stdout",
     "output_type": "stream",
     "text": [
      "IntervalIndex([(1, 2], (2, 3], (3, 4], (4, 5], (5, 6], (6, 7]],\n",
      "              closed='right',\n",
      "              dtype='interval[int64]')\n"
     ]
    }
   ],
   "source": [
    "print(interval.index)"
   ]
  },
  {
   "cell_type": "code",
   "execution_count": 19,
   "id": "1eddbff8",
   "metadata": {},
   "outputs": [],
   "source": [
    "interval=pd.DataFrame({\"X\":[1,2,3,4,5,6]},\n",
    "index=pd.IntervalIndex.from_tuples([(1,2),(2,3),(3,4),(4,5),(5,6),(6,7)]))"
   ]
  },
  {
   "cell_type": "code",
   "execution_count": 20,
   "id": "709ac7d6",
   "metadata": {},
   "outputs": [
    {
     "name": "stdout",
     "output_type": "stream",
     "text": [
      "        X\n",
      "(1, 2]  1\n",
      "(2, 3]  2\n",
      "(3, 4]  3\n",
      "(4, 5]  4\n",
      "(5, 6]  5\n",
      "(6, 7]  6\n"
     ]
    }
   ],
   "source": [
    "print(interval)"
   ]
  },
  {
   "cell_type": "code",
   "execution_count": 21,
   "id": "e7e027fd",
   "metadata": {},
   "outputs": [
    {
     "name": "stdout",
     "output_type": "stream",
     "text": [
      "IntervalIndex([(1, 2], (2, 3], (3, 4], (4, 5], (5, 6], (6, 7]],\n",
      "              closed='right',\n",
      "              dtype='interval[int64]')\n"
     ]
    }
   ],
   "source": [
    "print(interval.index)"
   ]
  },
  {
   "cell_type": "code",
   "execution_count": 24,
   "id": "c68ad597",
   "metadata": {},
   "outputs": [],
   "source": [
    "interval=pd.DataFrame({\"X\":[1,2,3,4,5,6]},\n",
    "index=pd.IntervalIndex.from_arrays([1,2,3,4,5,6],[2,3,4,5,6,7]))"
   ]
  },
  {
   "cell_type": "code",
   "execution_count": 25,
   "id": "0f1c78f0",
   "metadata": {},
   "outputs": [
    {
     "name": "stdout",
     "output_type": "stream",
     "text": [
      "        X\n",
      "(1, 2]  1\n",
      "(2, 3]  2\n",
      "(3, 4]  3\n",
      "(4, 5]  4\n",
      "(5, 6]  5\n",
      "(6, 7]  6\n",
      "IntervalIndex([(1, 2], (2, 3], (3, 4], (4, 5], (5, 6], (6, 7]],\n",
      "              closed='right',\n",
      "              dtype='interval[int64]')\n"
     ]
    }
   ],
   "source": [
    "print(interval)\n",
    "print(interval.index)"
   ]
  },
  {
   "cell_type": "code",
   "execution_count": 26,
   "id": "c719e57c",
   "metadata": {},
   "outputs": [],
   "source": [
    "data=pd.read_csv('data.csv')"
   ]
  },
  {
   "cell_type": "code",
   "execution_count": 27,
   "id": "1427ad67",
   "metadata": {},
   "outputs": [
    {
     "name": "stdout",
     "output_type": "stream",
     "text": [
      "_________Answer 5__________\n"
     ]
    }
   ],
   "source": [
    "print(\"_________Answer 5__________\")"
   ]
  },
  {
   "cell_type": "code",
   "execution_count": 28,
   "id": "9fac1c23",
   "metadata": {},
   "outputs": [
    {
     "name": "stdout",
     "output_type": "stream",
     "text": [
      "(5, 5)\n"
     ]
    }
   ],
   "source": [
    "print(data.shape)"
   ]
  },
  {
   "cell_type": "code",
   "execution_count": 29,
   "id": "96f013fc",
   "metadata": {},
   "outputs": [
    {
     "name": "stdout",
     "output_type": "stream",
     "text": [
      "5 5\n"
     ]
    }
   ],
   "source": [
    "print(data.shape[0],data.shape[1])"
   ]
  },
  {
   "cell_type": "code",
   "execution_count": 30,
   "id": "fff359de",
   "metadata": {},
   "outputs": [
    {
     "name": "stdout",
     "output_type": "stream",
     "text": [
      "columns\n",
      " Index(['Year', 'WHO region', 'Country', 'Beverage Types', 'Display Value'], dtype='object')\n"
     ]
    }
   ],
   "source": [
    "print(\"columns\\n\",data.columns)"
   ]
  },
  {
   "cell_type": "code",
   "execution_count": 31,
   "id": "fe02a80b",
   "metadata": {},
   "outputs": [
    {
     "name": "stdout",
     "output_type": "stream",
     "text": [
      "   Year       WHO region                Country Beverage Types  Display Value\n",
      "0  1986  Western Pacific               Viet Nam           Wine           0.00\n",
      "1  1986         Americas                Uruguay          Other           0.50\n",
      "2  1985           Africa           Cte d'Ivoire           Wine           1.62\n",
      "3  1986         Americas               Colombia           Beer           4.27\n",
      "4  1987         Americas  Saint Kitts and Nevis           Beer           1.98\n"
     ]
    }
   ],
   "source": [
    "print(data)\n"
   ]
  },
  {
   "cell_type": "code",
   "execution_count": 39,
   "id": "20528536",
   "metadata": {},
   "outputs": [
    {
     "name": "stdout",
     "output_type": "stream",
     "text": [
      "________Answer 6______\n"
     ]
    }
   ],
   "source": [
    "print(\"________Answer 6______\")\n",
    "arr1=pd.Series([2, 4, 6, 8, 10] )"
   ]
  },
  {
   "cell_type": "code",
   "execution_count": 33,
   "id": "e3c3eb05",
   "metadata": {},
   "outputs": [],
   "source": [
    "arr2=pd.Series([1, 3, 5, 7, 10] )"
   ]
  },
  {
   "cell_type": "code",
   "execution_count": 34,
   "id": "843aeb12",
   "metadata": {},
   "outputs": [
    {
     "name": "stdout",
     "output_type": "stream",
     "text": [
      "0    False\n",
      "1    False\n",
      "2    False\n",
      "3    False\n",
      "4     True\n",
      "dtype: bool\n"
     ]
    }
   ],
   "source": [
    "print(arr1==arr2)"
   ]
  },
  {
   "cell_type": "code",
   "execution_count": 35,
   "id": "dedffa12",
   "metadata": {},
   "outputs": [
    {
     "name": "stdout",
     "output_type": "stream",
     "text": [
      "0     True\n",
      "1     True\n",
      "2     True\n",
      "3     True\n",
      "4    False\n",
      "dtype: bool\n"
     ]
    }
   ],
   "source": [
    "print(arr1>arr2)"
   ]
  },
  {
   "cell_type": "code",
   "execution_count": 36,
   "id": "b833adbe",
   "metadata": {},
   "outputs": [
    {
     "name": "stdout",
     "output_type": "stream",
     "text": [
      "0    False\n",
      "1    False\n",
      "2    False\n",
      "3    False\n",
      "4    False\n",
      "dtype: bool\n"
     ]
    }
   ],
   "source": [
    "print(arr1<arr2)"
   ]
  },
  {
   "cell_type": "code",
   "execution_count": 40,
   "id": "914b362c",
   "metadata": {},
   "outputs": [
    {
     "name": "stdout",
     "output_type": "stream",
     "text": [
      "________Answer 7______\n"
     ]
    }
   ],
   "source": [
    "print(\"________Answer 7______\")"
   ]
  },
  {
   "cell_type": "code",
   "execution_count": 41,
   "id": "7c348096",
   "metadata": {},
   "outputs": [],
   "source": [
    "student1 = pd.DataFrame({\n",
    "        'sid': ['S1', 'S2', 'S3', 'S4', 'S5'],\n",
    "         'name': ['Danniella Fenton', 'Ryder Storey', 'Bryce Jensen', 'Ed Bernal', 'Kwame Morin'], \n",
    "        'marks': [200, 210, 190, 222, 199]})\n",
    "\n",
    "student2 = pd.DataFrame({\n",
    "        'sid': ['S4', 'S5', 'S6', 'S7', 'S8'],\n",
    "        'name': ['Scarlette Fisher', 'Carla Williamson', 'Dante Morse', 'Kaiser William', 'Madeeha Preston'], \n",
    "        'marks': [201, 200, 198, 219, 201]})"
   ]
  },
  {
   "cell_type": "code",
   "execution_count": 42,
   "id": "11ef120e",
   "metadata": {},
   "outputs": [],
   "source": [
    "mergeddata=pd.concat([student1,student2])"
   ]
  },
  {
   "cell_type": "code",
   "execution_count": 43,
   "id": "5205b458",
   "metadata": {},
   "outputs": [
    {
     "name": "stdout",
     "output_type": "stream",
     "text": [
      "  sid              name  marks\n",
      "0  S1  Danniella Fenton    200\n",
      "1  S2      Ryder Storey    210\n",
      "2  S3      Bryce Jensen    190\n",
      "3  S4         Ed Bernal    222\n",
      "4  S5       Kwame Morin    199\n",
      "0  S4  Scarlette Fisher    201\n",
      "1  S5  Carla Williamson    200\n",
      "2  S6       Dante Morse    198\n",
      "3  S7    Kaiser William    219\n",
      "4  S8   Madeeha Preston    201\n"
     ]
    }
   ],
   "source": [
    "print(mergeddata)"
   ]
  },
  {
   "cell_type": "code",
   "execution_count": 44,
   "id": "3f3d91ff",
   "metadata": {},
   "outputs": [
    {
     "name": "stdout",
     "output_type": "stream",
     "text": [
      "________Answer 8_________\n"
     ]
    }
   ],
   "source": [
    "print(\"________Answer 8_________\")"
   ]
  },
  {
   "cell_type": "code",
   "execution_count": 45,
   "id": "06372153",
   "metadata": {},
   "outputs": [],
   "source": [
    "l=[1,2,3,4,5]\n",
    "nplist=np.array(l)"
   ]
  },
  {
   "cell_type": "code",
   "execution_count": 46,
   "id": "d82d2f27",
   "metadata": {},
   "outputs": [
    {
     "name": "stdout",
     "output_type": "stream",
     "text": [
      "[1, 2, 3, 4, 5] [1 2 3 4 5]\n"
     ]
    }
   ],
   "source": [
    "print(l,nplist)"
   ]
  },
  {
   "cell_type": "code",
   "execution_count": 47,
   "id": "5f1cf638",
   "metadata": {},
   "outputs": [
    {
     "name": "stdout",
     "output_type": "stream",
     "text": [
      "________Answer 9_________\n"
     ]
    }
   ],
   "source": [
    "print(\"________Answer 9_________\")"
   ]
  },
  {
   "cell_type": "code",
   "execution_count": 49,
   "id": "6b3817ce",
   "metadata": {},
   "outputs": [],
   "source": [
    "rang=np.arange(2,11).reshape(3,3)"
   ]
  },
  {
   "cell_type": "code",
   "execution_count": 50,
   "id": "6efb0f2c",
   "metadata": {},
   "outputs": [
    {
     "name": "stdout",
     "output_type": "stream",
     "text": [
      "[[ 2  3  4]\n",
      " [ 5  6  7]\n",
      " [ 8  9 10]]\n"
     ]
    }
   ],
   "source": [
    "print(rang)"
   ]
  },
  {
   "cell_type": "code",
   "execution_count": 51,
   "id": "13307d9f",
   "metadata": {},
   "outputs": [
    {
     "name": "stdout",
     "output_type": "stream",
     "text": [
      "________Answer 10_________\n"
     ]
    }
   ],
   "source": [
    "print(\"________Answer 10_________\")"
   ]
  },
  {
   "cell_type": "code",
   "execution_count": 52,
   "id": "c675b041",
   "metadata": {},
   "outputs": [],
   "source": [
    "randarray=np.random.random((3,3,3))"
   ]
  },
  {
   "cell_type": "code",
   "execution_count": 53,
   "id": "73fbdf66",
   "metadata": {},
   "outputs": [
    {
     "name": "stdout",
     "output_type": "stream",
     "text": [
      "[[[0.42451243 0.52000754 0.6220393 ]\n",
      "  [0.95290798 0.21807934 0.5335346 ]\n",
      "  [0.43466595 0.67037861 0.30249534]]\n",
      "\n",
      " [[0.25552446 0.97820314 0.93063299]\n",
      "  [0.80930071 0.19940209 0.85373292]\n",
      "  [0.82248626 0.41144767 0.7900232 ]]\n",
      "\n",
      " [[0.23246068 0.37083784 0.32627462]\n",
      "  [0.07700135 0.17068354 0.71146175]\n",
      "  [0.60574654 0.69279231 0.75138252]]]\n"
     ]
    }
   ],
   "source": [
    "print(randarray)"
   ]
  },
  {
   "cell_type": "code",
   "execution_count": null,
   "id": "b1384f30",
   "metadata": {},
   "outputs": [],
   "source": []
  }
 ],
 "metadata": {
  "kernelspec": {
   "display_name": "Python 3",
   "language": "python",
   "name": "python3"
  },
  "language_info": {
   "codemirror_mode": {
    "name": "ipython",
    "version": 3
   },
   "file_extension": ".py",
   "mimetype": "text/x-python",
   "name": "python",
   "nbconvert_exporter": "python",
   "pygments_lexer": "ipython3",
   "version": "3.8.8"
  }
 },
 "nbformat": 4,
 "nbformat_minor": 5
}
